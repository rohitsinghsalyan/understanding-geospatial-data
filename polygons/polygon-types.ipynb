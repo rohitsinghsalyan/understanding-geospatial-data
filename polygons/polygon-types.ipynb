{
 "cells": [
  {
   "cell_type": "markdown",
   "metadata": {},
   "source": [
    "## understanding polygon geomtery types"
   ]
  },
  {
   "cell_type": "markdown",
   "metadata": {},
   "source": [
    "There are three polygon geomtery types mainly \n",
    "1. Polygon - Singly closed geomtery \n",
    "2. MultiPolygon - Multiple closed geometries \n",
    "3. Ring - closed geometry with hole inside it (single or multiple)\n",
    "\n",
    "We can have combination of Ring and Polygon geomtery forming multipolygon as well. \n",
    "In a nutshell all geomtries are defined by a json with coordinates and type keys and their values. coordinates has value as simple arrays (list of list) holding x, y, z values and type has Polygon and MultiPolygon strig values.\n",
    "\n",
    "Example - \n",
    "{ \"type\": \"MultiPolygon\", \"coordinates\": [ [ [ [ 77.590084271641217, 12.949233234213203 ], [ 77.585258087059529, 12.9316458012607 ], [ 77.598267802018924, 12.925203582405512 ], [ 77.612956189876286, 12.9384968673929 ], [ 77.604457908330232, 12.951175955937693 ], [ 77.590084271641217, 12.949233234213203 ] ] ] ] }\n",
    "\n"
   ]
  },
  {
   "cell_type": "code",
   "execution_count": 18,
   "metadata": {},
   "outputs": [
    {
     "name": "stderr",
     "output_type": "stream",
     "text": [
      "/var/folders/25/qyx0ccnd3c9_jsrwmq95735r0000gn/T/ipykernel_99613/3333379373.py:6: DeprecationWarning: Importing display from IPython.core.display is deprecated since IPython 7.14, please import from IPython display\n",
      "  from IPython.core.display import display, HTML\n"
     ]
    }
   ],
   "source": [
    "from shapely.geometry import shape\n",
    "import json\n",
    "import geopandas as gpd\n",
    "import pandas as pd\n",
    "from shapely.geometry import Polygon\n",
    "from IPython.core.display import display, HTML\n"
   ]
  },
  {
   "cell_type": "markdown",
   "metadata": {},
   "source": [
    "Let us create a simple polygon using Polygon method from shapely"
   ]
  },
  {
   "cell_type": "code",
   "execution_count": 6,
   "metadata": {},
   "outputs": [
    {
     "data": {
      "image/svg+xml": "<svg xmlns=\"http://www.w3.org/2000/svg\" xmlns:xlink=\"http://www.w3.org/1999/xlink\" width=\"100.0\" height=\"100.0\" viewBox=\"-0.04 -0.04 1.08 1.08\" preserveAspectRatio=\"xMinYMin meet\"><g transform=\"matrix(1,0,0,-1,0,1.0)\"><path fill-rule=\"evenodd\" fill=\"#66cc99\" stroke=\"#555555\" stroke-width=\"0.0216\" opacity=\"0.6\" d=\"M 0.0,0.0 L 1.0,0.0 L 1.0,1.0 L 0.0,1.0 L 0.0,0.0 z\" /></g></svg>",
      "text/plain": [
       "<shapely.geometry.polygon.Polygon at 0x1713c9de0>"
      ]
     },
     "execution_count": 6,
     "metadata": {},
     "output_type": "execute_result"
    }
   ],
   "source": [
    "p = Polygon([[0, 0], [1, 0], [1, 1], [0, 1], [0, 0]])\n",
    "p\n"
   ]
  },
  {
   "cell_type": "markdown",
   "metadata": {},
   "source": [
    "Now lets create a geomtery using a json (dictionary python object)"
   ]
  },
  {
   "cell_type": "code",
   "execution_count": 8,
   "metadata": {},
   "outputs": [
    {
     "data": {
      "text/plain": [
       "{'type': 'MultiPolygon',\n",
       " 'coordinates': [[[[77.59008427164122, 12.949233234213203],\n",
       "    [77.58525808705953, 12.9316458012607],\n",
       "    [77.59826780201892, 12.925203582405512],\n",
       "    [77.61295618987629, 12.9384968673929],\n",
       "    [77.60445790833023, 12.951175955937693],\n",
       "    [77.59008427164122, 12.949233234213203]]]]}"
      ]
     },
     "execution_count": 8,
     "metadata": {},
     "output_type": "execute_result"
    }
   ],
   "source": [
    "geom_json = { \"type\": \"MultiPolygon\", \"coordinates\": [ [ [ [ 77.590084271641217, 12.949233234213203 ], [ 77.585258087059529, 12.9316458012607 ], [ 77.598267802018924, 12.925203582405512 ], [ 77.612956189876286, 12.9384968673929 ], [ 77.604457908330232, 12.951175955937693 ], [ 77.590084271641217, 12.949233234213203 ] ] ] ] }\n",
    "geom_json"
   ]
  },
  {
   "cell_type": "code",
   "execution_count": 12,
   "metadata": {},
   "outputs": [
    {
     "data": {
      "image/svg+xml": "<svg xmlns=\"http://www.w3.org/2000/svg\" xmlns:xlink=\"http://www.w3.org/1999/xlink\" width=\"100.0\" height=\"100.0\" viewBox=\"77.58415016294686 12.924095658292842 0.02991395104210426 0.028188221757520893\" preserveAspectRatio=\"xMinYMin meet\"><g transform=\"matrix(1,0,0,-1,0,25.876379538343205)\"><g><path fill-rule=\"evenodd\" fill=\"#66cc99\" stroke=\"#555555\" stroke-width=\"0.0005982790208420852\" opacity=\"0.6\" d=\"M 77.59008427164122,12.949233234213203 L 77.58525808705953,12.9316458012607 L 77.59826780201892,12.925203582405512 L 77.61295618987629,12.9384968673929 L 77.60445790833023,12.951175955937693 L 77.59008427164122,12.949233234213203 z\" /></g></g></svg>",
      "text/plain": [
       "<shapely.geometry.multipolygon.MultiPolygon at 0x171765ba0>"
      ]
     },
     "execution_count": 12,
     "metadata": {},
     "output_type": "execute_result"
    }
   ],
   "source": [
    "geom_polygon_object = shape(geom_json)\n",
    "geom_polygon_object"
   ]
  },
  {
   "cell_type": "markdown",
   "metadata": {},
   "source": [
    "Coordinate key in the json object is the important component which defines all the polygon geometry types. \n",
    "This array has at most depth of 4 and is capable to cover all the polygon types. "
   ]
  },
  {
   "cell_type": "markdown",
   "metadata": {},
   "source": [
    "### Polygon\n",
    "it can be difined with array depth of 3 and only take type key value as \"Polygon\""
   ]
  },
  {
   "cell_type": "code",
   "execution_count": 13,
   "metadata": {},
   "outputs": [
    {
     "data": {
      "image/svg+xml": "<svg xmlns=\"http://www.w3.org/2000/svg\" xmlns:xlink=\"http://www.w3.org/1999/xlink\" width=\"100.0\" height=\"100.0\" viewBox=\"77.58415016294686 12.924095658292842 0.02991395104210426 0.028188221757520893\" preserveAspectRatio=\"xMinYMin meet\"><g transform=\"matrix(1,0,0,-1,0,25.876379538343205)\"><path fill-rule=\"evenodd\" fill=\"#66cc99\" stroke=\"#555555\" stroke-width=\"0.0005982790208420852\" opacity=\"0.6\" d=\"M 77.59008427164122,12.949233234213203 L 77.58525808705953,12.9316458012607 L 77.59826780201892,12.925203582405512 L 77.61295618987629,12.9384968673929 L 77.60445790833023,12.951175955937693 L 77.59008427164122,12.949233234213203 z\" /></g></svg>",
      "text/plain": [
       "<shapely.geometry.polygon.Polygon at 0x171757c40>"
      ]
     },
     "execution_count": 13,
     "metadata": {},
     "output_type": "execute_result"
    }
   ],
   "source": [
    "polygon_geom_json = { \"type\": \"Polygon\", \"coordinates\": [ [ [ 77.590084271641217, 12.949233234213203 ], [ 77.585258087059529, 12.9316458012607 ], [ 77.598267802018924, 12.925203582405512 ], [ 77.612956189876286, 12.9384968673929 ], [ 77.604457908330232, 12.951175955937693 ], [ 77.590084271641217, 12.949233234213203 ] ] ] }\n",
    "polygon_geom = shape(polygon_geom_json)\n",
    "polygon_geom"
   ]
  },
  {
   "cell_type": "markdown",
   "metadata": {},
   "source": [
    "### Polygon Ring\n",
    "It is a single polygon with a hole in it. It can also be defined using array with a depth of 3 as coordinate value and type value set as \"Polygon\""
   ]
  },
  {
   "cell_type": "code",
   "execution_count": 15,
   "metadata": {},
   "outputs": [
    {
     "data": {
      "image/svg+xml": "<svg xmlns=\"http://www.w3.org/2000/svg\" xmlns:xlink=\"http://www.w3.org/1999/xlink\" width=\"100.0\" height=\"100.0\" viewBox=\"77.58415016294686 12.924095658292842 0.02991395104210426 0.028188221757520893\" preserveAspectRatio=\"xMinYMin meet\"><g transform=\"matrix(1,0,0,-1,0,25.876379538343205)\"><path fill-rule=\"evenodd\" fill=\"#66cc99\" stroke=\"#555555\" stroke-width=\"0.0005982790208420852\" opacity=\"0.6\" d=\"M 77.59008427164122,12.949233234213203 L 77.58525808705953,12.9316458012607 L 77.59826780201892,12.925203582405512 L 77.61295618987629,12.9384968673929 L 77.60445790833023,12.951175955937693 L 77.59008427164122,12.949233234213203 z M 77.59618035304884,12.944654782547842 L 77.59151146396195,12.93977947971165 L 77.59695850122999,12.93230383024936 L 77.60329485070504,12.93468739498531 L 77.60529580317085,12.94194629274157 L 77.59618035304884,12.944654782547842 z\" /></g></svg>",
      "text/plain": [
       "<shapely.geometry.polygon.Polygon at 0x1717574c0>"
      ]
     },
     "execution_count": 15,
     "metadata": {},
     "output_type": "execute_result"
    }
   ],
   "source": [
    "ring_geom_json =  { \"type\": \"Polygon\", \"coordinates\": [ [ [ 77.590084271641217, 12.949233234213203 ], [ 77.585258087059529, 12.9316458012607 ], [ 77.598267802018924, 12.925203582405512 ], [ 77.612956189876286, 12.9384968673929 ], [ 77.604457908330232, 12.951175955937693 ], [ 77.590084271641217, 12.949233234213203 ] ], [ [ 77.596180353048837, 12.944654782547842 ], [ 77.59151146396195, 12.93977947971165 ], [ 77.596958501229992, 12.93230383024936 ], [ 77.603294850705041, 12.934687394985311 ], [ 77.605295803170847, 12.941946292741569 ], [ 77.596180353048837, 12.944654782547842 ] ] ] }\n",
    "ring_geom = shape(ring_geom_json)\n",
    "ring_geom"
   ]
  },
  {
   "cell_type": "markdown",
   "metadata": {},
   "source": [
    "### MultiPolygon\n",
    "A MultiPolygon is defined using a depth 4 array coordinate value and type value specified as \"MultiPolygon\""
   ]
  },
  {
   "cell_type": "code",
   "execution_count": 16,
   "metadata": {},
   "outputs": [
    {
     "data": {
      "image/svg+xml": "<svg xmlns=\"http://www.w3.org/2000/svg\" xmlns:xlink=\"http://www.w3.org/1999/xlink\" width=\"100.0\" height=\"100.0\" viewBox=\"77.58353614028081 12.91357123795265 0.046492563025495315 0.039326664763764896\" preserveAspectRatio=\"xMinYMin meet\"><g transform=\"matrix(1,0,0,-1,0,25.866469140669068)\"><g><path fill-rule=\"evenodd\" fill=\"#66cc99\" stroke=\"#555555\" stroke-width=\"0.0009298512605099063\" opacity=\"0.6\" d=\"M 77.59008427164122,12.949233234213203 L 77.58525808705953,12.9316458012607 L 77.59826780201892,12.925203582405512 L 77.61295618987629,12.9384968673929 L 77.60445790833023,12.951175955937693 L 77.59008427164122,12.949233234213203 z M 77.59618035304884,12.944654782547842 L 77.59151146396195,12.93977947971165 L 77.59695850122999,12.93230383024936 L 77.60329485070504,12.93468739498531 L 77.60529580317085,12.94194629274157 L 77.59618035304884,12.944654782547842 z\" /><path fill-rule=\"evenodd\" fill=\"#66cc99\" stroke=\"#555555\" stroke-width=\"0.0009298512605099063\" opacity=\"0.6\" d=\"M 77.61452241731872,12.929053478006525 L 77.61107633251649,12.91854371610338 L 77.62308204731134,12.915293184731373 L 77.62830675652759,12.922119251758058 L 77.62641696808765,12.930136933457964 L 77.61452241731872,12.929053478006525 z\" /></g></g></svg>",
      "text/plain": [
       "<shapely.geometry.multipolygon.MultiPolygon at 0x17174a200>"
      ]
     },
     "execution_count": 16,
     "metadata": {},
     "output_type": "execute_result"
    }
   ],
   "source": [
    "multi_polygon_json = { \"type\": \"MultiPolygon\", \"coordinates\": [ [ [ [ 77.590084271641217, 12.949233234213203 ], [ 77.585258087059529, 12.9316458012607 ], [ 77.598267802018924, 12.925203582405512 ], [ 77.612956189876286, 12.9384968673929 ], [ 77.604457908330232, 12.951175955937693 ], [ 77.590084271641217, 12.949233234213203 ] ], [ [ 77.596180353048837, 12.944654782547842 ], [ 77.59151146396195, 12.93977947971165 ], [ 77.596958501229992, 12.93230383024936 ], [ 77.603294850705041, 12.934687394985311 ], [ 77.605295803170847, 12.941946292741569 ], [ 77.596180353048837, 12.944654782547842 ] ] ], [ [ [ 77.614522417318724, 12.929053478006525 ], [ 77.61107633251649, 12.918543716103381 ], [ 77.623082047311343, 12.915293184731373 ], [ 77.628306756527593, 12.922119251758058 ], [ 77.626416968087653, 12.930136933457964 ], [ 77.614522417318724, 12.929053478006525 ] ] ] ] } \n",
    "multi_polygon_geom = shape(multi_polygon_json)\n",
    "multi_polygon_geom"
   ]
  }
 ],
 "metadata": {
  "kernelspec": {
   "display_name": "Python 3.10.8 ('GeospatialPython')",
   "language": "python",
   "name": "python3"
  },
  "language_info": {
   "codemirror_mode": {
    "name": "ipython",
    "version": 3
   },
   "file_extension": ".py",
   "mimetype": "text/x-python",
   "name": "python",
   "nbconvert_exporter": "python",
   "pygments_lexer": "ipython3",
   "version": "3.10.8"
  },
  "orig_nbformat": 4,
  "vscode": {
   "interpreter": {
    "hash": "af96751c913afb2d6a37905253b864b7350410de7285dd8f6d1de290c70bb55f"
   }
  }
 },
 "nbformat": 4,
 "nbformat_minor": 2
}
