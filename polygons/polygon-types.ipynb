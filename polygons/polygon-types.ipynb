{
 "cells": [
  {
   "cell_type": "markdown",
   "metadata": {},
   "source": [
    "## understanding polygon geomtery types"
   ]
  },
  {
   "cell_type": "markdown",
   "metadata": {},
   "source": [
    "There are three polygon geomtery types mainly \n",
    "1. Polygon - Singly closed geomtery \n",
    "2. MultiPolygon - Multiple closed geometries \n",
    "3. Ring - closed geometry with hole inside it (single or multiple)\n",
    "\n",
    "We can have combination of Ring and Polygon geomtery forming multipolygon as well. \n",
    "In a nutshell all geomtries are defined by a json with coordinates and type keys and their values. coordinates has value as simple arrays (list of list) holding x, y, z values and type has Polygon and MultiPolygon strig values.\n",
    "\n",
    "Example - \n",
    "{ \"type\": \"MultiPolygon\", \"coordinates\": [ [ [ [ 77.590084271641217, 12.949233234213203 ], [ 77.585258087059529, 12.9316458012607 ], [ 77.598267802018924, 12.925203582405512 ], [ 77.612956189876286, 12.9384968673929 ], [ 77.604457908330232, 12.951175955937693 ], [ 77.590084271641217, 12.949233234213203 ] ] ] ] }\n",
    "\n"
   ]
  },
  {
   "cell_type": "code",
   "execution_count": 3,
   "metadata": {},
   "outputs": [],
   "source": [
    "import shapely\n",
    "import json\n",
    "import geopandas as gpd\n",
    "import pandas as pd"
   ]
  },
  {
   "cell_type": "code",
   "execution_count": 4,
   "metadata": {},
   "outputs": [],
   "source": [
    "from shapely.geometry import Polygon"
   ]
  },
  {
   "cell_type": "markdown",
   "metadata": {},
   "source": [
    "Let us create a simple polygon using Polygon method from shapely"
   ]
  },
  {
   "cell_type": "code",
   "execution_count": 6,
   "metadata": {},
   "outputs": [
    {
     "data": {
      "image/svg+xml": "<svg xmlns=\"http://www.w3.org/2000/svg\" xmlns:xlink=\"http://www.w3.org/1999/xlink\" width=\"100.0\" height=\"100.0\" viewBox=\"-0.04 -0.04 1.08 1.08\" preserveAspectRatio=\"xMinYMin meet\"><g transform=\"matrix(1,0,0,-1,0,1.0)\"><path fill-rule=\"evenodd\" fill=\"#66cc99\" stroke=\"#555555\" stroke-width=\"0.0216\" opacity=\"0.6\" d=\"M 0.0,0.0 L 1.0,0.0 L 1.0,1.0 L 0.0,1.0 L 0.0,0.0 z\" /></g></svg>",
      "text/plain": [
       "<shapely.geometry.polygon.Polygon at 0x1713c9de0>"
      ]
     },
     "execution_count": 6,
     "metadata": {},
     "output_type": "execute_result"
    }
   ],
   "source": [
    "p = Polygon([[0, 0], [1, 0], [1, 1], [0, 1], [0, 0]])\n",
    "p\n"
   ]
  }
 ],
 "metadata": {
  "kernelspec": {
   "display_name": "Python 3.10.8 ('GeospatialPython')",
   "language": "python",
   "name": "python3"
  },
  "language_info": {
   "codemirror_mode": {
    "name": "ipython",
    "version": 3
   },
   "file_extension": ".py",
   "mimetype": "text/x-python",
   "name": "python",
   "nbconvert_exporter": "python",
   "pygments_lexer": "ipython3",
   "version": "3.10.8"
  },
  "orig_nbformat": 4,
  "vscode": {
   "interpreter": {
    "hash": "af96751c913afb2d6a37905253b864b7350410de7285dd8f6d1de290c70bb55f"
   }
  }
 },
 "nbformat": 4,
 "nbformat_minor": 2
}
