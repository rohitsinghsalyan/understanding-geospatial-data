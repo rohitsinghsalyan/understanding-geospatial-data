{
 "cells": [
  {
   "cell_type": "markdown",
   "metadata": {},
   "source": [
    "## Polygon object attributes and methods\n",
    "\n",
    "In this notebook we will create polygon object using shapely library and then get information about the polygon using its attributes and methods. Let us start with creating a simple Polygon object."
   ]
  },
  {
   "cell_type": "code",
   "execution_count": 5,
   "metadata": {},
   "outputs": [],
   "source": [
    "from shapely.geometry import shape\n",
    "import json\n",
    "import geopandas as gpd\n",
    "import pandas as pd\n",
    "from shapely.geometry import Polygon\n",
    "import folium"
   ]
  },
  {
   "cell_type": "code",
   "execution_count": 2,
   "metadata": {},
   "outputs": [
    {
     "data": {
      "image/svg+xml": "<svg xmlns=\"http://www.w3.org/2000/svg\" xmlns:xlink=\"http://www.w3.org/1999/xlink\" width=\"100.0\" height=\"100.0\" viewBox=\"77.58415016294686 12.924095658292842 0.02991395104210426 0.028188221757520893\" preserveAspectRatio=\"xMinYMin meet\"><g transform=\"matrix(1,0,0,-1,0,25.876379538343205)\"><g><path fill-rule=\"evenodd\" fill=\"#66cc99\" stroke=\"#555555\" stroke-width=\"0.0005982790208420852\" opacity=\"0.6\" d=\"M 77.59008427164122,12.949233234213203 L 77.58525808705953,12.9316458012607 L 77.59826780201892,12.925203582405512 L 77.61295618987629,12.9384968673929 L 77.60445790833023,12.951175955937693 L 77.59008427164122,12.949233234213203 z\" /></g></g></svg>",
      "text/plain": [
       "<shapely.geometry.multipolygon.MultiPolygon at 0x10daac790>"
      ]
     },
     "execution_count": 2,
     "metadata": {},
     "output_type": "execute_result"
    }
   ],
   "source": [
    "geom_json = { \"type\": \"MultiPolygon\", \"coordinates\": [ [ [ [ 77.590084271641217, 12.949233234213203 ], [ 77.585258087059529, 12.9316458012607 ], [ 77.598267802018924, 12.925203582405512 ], [ 77.612956189876286, 12.9384968673929 ], [ 77.604457908330232, 12.951175955937693 ], [ 77.590084271641217, 12.949233234213203 ] ] ] ] }\n",
    "geom_polygon_object = shape(geom_json)\n",
    "geom_polygon_object"
   ]
  },
  {
   "cell_type": "markdown",
   "metadata": {},
   "source": [
    "Let us add a basemap and overlay our polygon on top of it to see where the polygon is drawn in geographic context. We will use folium to add the map."
   ]
  },
  {
   "cell_type": "code",
   "execution_count": 14,
   "metadata": {},
   "outputs": [
    {
     "data": {
      "text/html": [
       "<div style=\"width:100%;\"><div style=\"position:relative;width:100%;height:0;padding-bottom:60%;\"><span style=\"color:#565656\">Make this Notebook Trusted to load map: File -> Trust Notebook</span><iframe srcdoc=\"&lt;!DOCTYPE html&gt;\n",
       "&lt;html&gt;\n",
       "&lt;head&gt;\n",
       "    \n",
       "    &lt;meta http-equiv=&quot;content-type&quot; content=&quot;text/html; charset=UTF-8&quot; /&gt;\n",
       "    \n",
       "        &lt;script&gt;\n",
       "            L_NO_TOUCH = false;\n",
       "            L_DISABLE_3D = false;\n",
       "        &lt;/script&gt;\n",
       "    \n",
       "    &lt;style&gt;html, body {width: 100%;height: 100%;margin: 0;padding: 0;}&lt;/style&gt;\n",
       "    &lt;style&gt;#map {position:absolute;top:0;bottom:0;right:0;left:0;}&lt;/style&gt;\n",
       "    &lt;script src=&quot;https://cdn.jsdelivr.net/npm/leaflet@1.9.3/dist/leaflet.js&quot;&gt;&lt;/script&gt;\n",
       "    &lt;script src=&quot;https://code.jquery.com/jquery-1.12.4.min.js&quot;&gt;&lt;/script&gt;\n",
       "    &lt;script src=&quot;https://cdn.jsdelivr.net/npm/bootstrap@5.2.2/dist/js/bootstrap.bundle.min.js&quot;&gt;&lt;/script&gt;\n",
       "    &lt;script src=&quot;https://cdnjs.cloudflare.com/ajax/libs/Leaflet.awesome-markers/2.0.2/leaflet.awesome-markers.js&quot;&gt;&lt;/script&gt;\n",
       "    &lt;link rel=&quot;stylesheet&quot; href=&quot;https://cdn.jsdelivr.net/npm/leaflet@1.9.3/dist/leaflet.css&quot;/&gt;\n",
       "    &lt;link rel=&quot;stylesheet&quot; href=&quot;https://cdn.jsdelivr.net/npm/bootstrap@5.2.2/dist/css/bootstrap.min.css&quot;/&gt;\n",
       "    &lt;link rel=&quot;stylesheet&quot; href=&quot;https://netdna.bootstrapcdn.com/bootstrap/3.0.0/css/bootstrap.min.css&quot;/&gt;\n",
       "    &lt;link rel=&quot;stylesheet&quot; href=&quot;https://cdn.jsdelivr.net/npm/@fortawesome/fontawesome-free@6.2.0/css/all.min.css&quot;/&gt;\n",
       "    &lt;link rel=&quot;stylesheet&quot; href=&quot;https://cdnjs.cloudflare.com/ajax/libs/Leaflet.awesome-markers/2.0.2/leaflet.awesome-markers.css&quot;/&gt;\n",
       "    &lt;link rel=&quot;stylesheet&quot; href=&quot;https://cdn.jsdelivr.net/gh/python-visualization/folium/folium/templates/leaflet.awesome.rotate.min.css&quot;/&gt;\n",
       "    \n",
       "            &lt;meta name=&quot;viewport&quot; content=&quot;width=device-width,\n",
       "                initial-scale=1.0, maximum-scale=1.0, user-scalable=no&quot; /&gt;\n",
       "            &lt;style&gt;\n",
       "                #map_41b2d0c4dd767b08142707f2a0a10768 {\n",
       "                    position: relative;\n",
       "                    width: 100.0%;\n",
       "                    height: 100.0%;\n",
       "                    left: 0.0%;\n",
       "                    top: 0.0%;\n",
       "                }\n",
       "                .leaflet-container { font-size: 1rem; }\n",
       "            &lt;/style&gt;\n",
       "        \n",
       "&lt;/head&gt;\n",
       "&lt;body&gt;\n",
       "    \n",
       "    \n",
       "            &lt;div class=&quot;folium-map&quot; id=&quot;map_41b2d0c4dd767b08142707f2a0a10768&quot; &gt;&lt;/div&gt;\n",
       "        \n",
       "&lt;/body&gt;\n",
       "&lt;script&gt;\n",
       "    \n",
       "    \n",
       "            var map_41b2d0c4dd767b08142707f2a0a10768 = L.map(\n",
       "                &quot;map_41b2d0c4dd767b08142707f2a0a10768&quot;,\n",
       "                {\n",
       "                    center: [12.93886922962615, 77.59827455702086],\n",
       "                    crs: L.CRS.EPSG3857,\n",
       "                    zoom: 13,\n",
       "                    zoomControl: true,\n",
       "                    preferCanvas: false,\n",
       "                }\n",
       "            );\n",
       "\n",
       "            \n",
       "\n",
       "        \n",
       "    \n",
       "            var tile_layer_a2c4c7561ac5ac35cdd0064f95852fce = L.tileLayer(\n",
       "                &quot;https://{s}.tile.openstreetmap.org/{z}/{x}/{y}.png&quot;,\n",
       "                {&quot;attribution&quot;: &quot;Data by \\u0026copy; \\u003ca target=\\&quot;_blank\\&quot; href=\\&quot;http://openstreetmap.org\\&quot;\\u003eOpenStreetMap\\u003c/a\\u003e, under \\u003ca target=\\&quot;_blank\\&quot; href=\\&quot;http://www.openstreetmap.org/copyright\\&quot;\\u003eODbL\\u003c/a\\u003e.&quot;, &quot;detectRetina&quot;: false, &quot;maxNativeZoom&quot;: 18, &quot;maxZoom&quot;: 18, &quot;minZoom&quot;: 0, &quot;noWrap&quot;: false, &quot;opacity&quot;: 1, &quot;subdomains&quot;: &quot;abc&quot;, &quot;tms&quot;: false}\n",
       "            ).addTo(map_41b2d0c4dd767b08142707f2a0a10768);\n",
       "        \n",
       "    \n",
       "\n",
       "        function geo_json_373a7733e539b2c046f2462e0412f67f_onEachFeature(feature, layer) {\n",
       "            layer.on({\n",
       "            });\n",
       "        };\n",
       "        var geo_json_373a7733e539b2c046f2462e0412f67f = L.geoJson(null, {\n",
       "                onEachFeature: geo_json_373a7733e539b2c046f2462e0412f67f_onEachFeature,\n",
       "            \n",
       "        });\n",
       "\n",
       "        function geo_json_373a7733e539b2c046f2462e0412f67f_add (data) {\n",
       "            geo_json_373a7733e539b2c046f2462e0412f67f\n",
       "                .addData(data)\n",
       "                .addTo(map_41b2d0c4dd767b08142707f2a0a10768);\n",
       "        }\n",
       "            geo_json_373a7733e539b2c046f2462e0412f67f_add({&quot;coordinates&quot;: [[[[77.59008427164122, 12.949233234213203], [77.58525808705953, 12.9316458012607], [77.59826780201892, 12.925203582405512], [77.61295618987629, 12.9384968673929], [77.60445790833023, 12.951175955937693], [77.59008427164122, 12.949233234213203]]]], &quot;type&quot;: &quot;MultiPolygon&quot;});\n",
       "\n",
       "        \n",
       "&lt;/script&gt;\n",
       "&lt;/html&gt;\" style=\"position:absolute;width:100%;height:100%;left:0;top:0;border:none !important;\" allowfullscreen webkitallowfullscreen mozallowfullscreen></iframe></div></div>"
      ],
      "text/plain": [
       "<folium.folium.Map at 0x10da7a980>"
      ]
     },
     "execution_count": 14,
     "metadata": {},
     "output_type": "execute_result"
    }
   ],
   "source": [
    "m = folium.Map(location=[geom_polygon_object.centroid.y, geom_polygon_object.centroid.x], zoom_start=13)\n",
    "folium.GeoJson(geom_polygon_object, name=\"geojson\").add_to(m)\n",
    "m"
   ]
  },
  {
   "cell_type": "markdown",
   "metadata": {},
   "source": [
    "Let us find the area of the polygon we have created above. "
   ]
  },
  {
   "cell_type": "code",
   "execution_count": 17,
   "metadata": {},
   "outputs": [
    {
     "data": {
      "text/plain": [
       "0.000460198041351943"
      ]
     },
     "execution_count": 17,
     "metadata": {},
     "output_type": "execute_result"
    }
   ],
   "source": [
    "geom_polygon_object.area"
   ]
  },
  {
   "cell_type": "markdown",
   "metadata": {},
   "source": [
    "Well the area here does not seems to be looking right since it looks like a pretty large area on map. Well the unit of area is in degrees, same as we have in the coordinate system. To get the area in more meaningful unit such as metric system can either convert the area into metric system directly or reproject the polygon into a projection system which use metric units for coordinates. Let us first inspect the projection of the polygon. shapely does not have capbility to set and store the CRS for any geometry object but we can transform coordinates using pyproj package. "
   ]
  },
  {
   "cell_type": "code",
   "execution_count": 26,
   "metadata": {},
   "outputs": [
    {
     "name": "stdout",
     "output_type": "stream",
     "text": [
      "Area in sqkm: 5.67010006749729\n"
     ]
    }
   ],
   "source": [
    "# 1 degree = 111km approximately \n",
    "print(\"Area in sqkm:\", geom_polygon_object.area * 111 * 111)"
   ]
  },
  {
   "cell_type": "code",
   "execution_count": 21,
   "metadata": {},
   "outputs": [],
   "source": [
    "import pyproj\n",
    "from shapely.ops import transform"
   ]
  },
  {
   "cell_type": "code",
   "execution_count": 23,
   "metadata": {},
   "outputs": [
    {
     "data": {
      "image/svg+xml": "<svg xmlns=\"http://www.w3.org/2000/svg\" xmlns:xlink=\"http://www.w3.org/1999/xlink\" width=\"300\" height=\"300\" viewBox=\"780391.6928106562 1430174.9138941662 3239.454956612899 3121.6530138966627\" preserveAspectRatio=\"xMinYMin meet\"><g transform=\"matrix(1,0,0,-1,0,2863471.480802229)\"><g><path fill-rule=\"evenodd\" fill=\"#66cc99\" stroke=\"#555555\" stroke-width=\"21.596366377419326\" opacity=\"0.6\" d=\"M 781015.936740166,1432945.686058686 L 780511.672623864,1430993.6660746732 L 781931.3977245917,1430294.893707374 L 783511.1679540612,1431782.560102504 L 782574.2092590877,1433176.587094855 L 781015.936740166,1432945.686058686 z\" /></g></g></svg>",
      "text/plain": [
       "<shapely.geometry.multipolygon.MultiPolygon at 0x1724155a0>"
      ]
     },
     "execution_count": 23,
     "metadata": {},
     "output_type": "execute_result"
    }
   ],
   "source": [
    "wgs84 = pyproj.CRS('EPSG:4326') #original \n",
    "utm = pyproj.CRS('EPSG:32643') #utm\n",
    "\n",
    "project = pyproj.Transformer.from_crs(wgs84, utm, always_xy=True).transform\n",
    "utm_geom_polygon_object = transform(project, geom_polygon_object)\n",
    "utm_geom_polygon_object"
   ]
  },
  {
   "cell_type": "markdown",
   "metadata": {},
   "source": [
    "Let us recalculate the area again. "
   ]
  },
  {
   "cell_type": "code",
   "execution_count": 31,
   "metadata": {},
   "outputs": [
    {
     "name": "stdout",
     "output_type": "stream",
     "text": [
      "Difference in Area calculated by two methods (SQKM): -0.13917023312696397\n"
     ]
    }
   ],
   "source": [
    "print(\"Difference in Area calculated by two methods (SQKM):\",  utm_geom_polygon_object.area/1e6 - geom_polygon_object.area * 111 * 111)"
   ]
  }
 ],
 "metadata": {
  "kernelspec": {
   "display_name": "Python 3.10.8 ('GeospatialPython')",
   "language": "python",
   "name": "python3"
  },
  "language_info": {
   "codemirror_mode": {
    "name": "ipython",
    "version": 3
   },
   "file_extension": ".py",
   "mimetype": "text/x-python",
   "name": "python",
   "nbconvert_exporter": "python",
   "pygments_lexer": "ipython3",
   "version": "3.10.8"
  },
  "orig_nbformat": 4,
  "vscode": {
   "interpreter": {
    "hash": "af96751c913afb2d6a37905253b864b7350410de7285dd8f6d1de290c70bb55f"
   }
  }
 },
 "nbformat": 4,
 "nbformat_minor": 2
}
